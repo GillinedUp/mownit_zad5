{
 "cells": [
  {
   "cell_type": "code",
   "execution_count": 2,
   "metadata": {
    "collapsed": true
   },
   "outputs": [],
   "source": [
    "import xml.etree.ElementTree as ET\n",
    "\n",
    "tree = ET.parse('cokolwiek.xml')\n",
    "\n",
    "root = tree.getroot()"
   ]
  },
  {
   "cell_type": "code",
   "execution_count": 6,
   "metadata": {
    "collapsed": true
   },
   "outputs": [],
   "source": [
    "# def get_element_by_tag(element, tag):\n",
    "#     if element.tag.endswith(tag):\n",
    "#         yield element\n",
    "#     for child in element:\n",
    "#         for g in get_element_by_tag(child, tag):\n",
    "#             yield g"
   ]
  },
  {
   "cell_type": "code",
   "execution_count": 68,
   "metadata": {
    "collapsed": true
   },
   "outputs": [],
   "source": [
    "ns = {'m': 'http://www.mediawiki.org/xml/export-0.10/'}\n",
    "i = 0\n",
    "for page in root.findall('m:page', ns):\n",
    "    title = page.find('m:title', ns).text\n",
    "    text = page.find('m:revision', ns).find('m:text', ns).text\n",
    "    with open(str(i) + '.txt', 'a') as the_file:\n",
    "        the_file.write(title + text)\n",
    "    i += 1"
   ]
  },
  {
   "cell_type": "code",
   "execution_count": 67,
   "metadata": {
    "collapsed": true
   },
   "outputs": [],
   "source": [
    "# ns = {'m': 'http://www.mediawiki.org/xml/export-0.10/'}\n",
    "# i = 0\n",
    "# for page in root.findall('m:page', ns):\n",
    "#     title = page.find('m:title', ns)\n",
    "#     text = page.find('m:revision', ns).find('m:text', ns)\n",
    "# #     for e in text:\n",
    "# #         print(e)\n",
    "#     for ref in text.findall('m:ref', ns):\n",
    "#         print(a)\n",
    "# #         text.remove(ref)\n",
    "# #     print(text.text)\n",
    "# #     with open(str(i) + '.txt', 'a') as the_file:\n",
    "# #         the_file.write(title.text + text.text)\n",
    "#     i += 1"
   ]
  },
  {
   "cell_type": "code",
   "execution_count": null,
   "metadata": {
    "collapsed": true
   },
   "outputs": [],
   "source": [
    "\\[\\[[^\\]]*\\]\\]\n",
    "\\[\\[([^\\]]*)\\|([^\\]]*)\\]\\] # form [[text|text]]\n",
    "\\[\\[([^\\]|]*)\\]\\] # form [[text]]\n",
    "\\[(http[^\\]]*)\\] # [http...]\n",
    "<ref>([^<]*)<\\/ref> # <ref> text <\\ref>"
   ]
  },
  {
   "cell_type": "code",
   "execution_count": 1,
   "metadata": {
    "collapsed": true
   },
   "outputs": [],
   "source": [
    "import re"
   ]
  },
  {
   "cell_type": "code",
   "execution_count": 9,
   "metadata": {},
   "outputs": [
    {
     "name": "stdout",
     "output_type": "stream",
     "text": [
      "In Cibber's ''Love's Last Shift'', a free-living Restoration rake is brought to repentance and reform by the ruses of his wife, while in ''The Relapse'', the rake succumbs again to temptation and has a new love affair. His virtuous wife is also subjected to a determined seduction attempt, and resists with difficulty.\n"
     ]
    }
   ],
   "source": [
    "s = \"In Cibber's ''Love's Last Shift'', a free-living [[Restoration (England)|Restoration]] [[Rake (character)|rake]] is brought to repentance and reform by the ruses of his wife, while in ''The Relapse'', the rake succumbs again to temptation and has a new love affair. His virtuous wife is also subjected to a determined seduction attempt, and resists with difficulty.\"\n",
    "p = re.compile('\\[\\[([^\\]]*)\\|([^\\]]*)\\]\\]')\n",
    "a = p.sub(r'\\g<2>', s)\n",
    "print(a)"
   ]
  },
  {
   "cell_type": "code",
   "execution_count": 10,
   "metadata": {},
   "outputs": [
    {
     "name": "stdout",
     "output_type": "stream",
     "text": [
      "'''''The Relapse, or, Virtue in Danger''''' is a Restoration comedy from 1696 written by John Vanbrugh. The play is a sequel to Colley Cibber's ''[[Love's Last Shift|Love's Last Shift, or, The Fool in Fashion]]''.\n"
     ]
    }
   ],
   "source": [
    "s = \"'''''The Relapse, or, Virtue in Danger''''' is a [[Restoration comedy]] from 1696 written by [[John Vanbrugh]]. The play is a sequel to [[Colley Cibber]]'s ''[[Love's Last Shift|Love's Last Shift, or, The Fool in Fashion]]''.\"\n",
    "p = re.compile('\\[\\[([^\\]|]*)\\]\\]')\n",
    "a = p.sub(r'\\g<1>', s)\n",
    "print(a)"
   ]
  },
  {
   "cell_type": "code",
   "execution_count": 15,
   "metadata": {},
   "outputs": [
    {
     "name": "stdout",
     "output_type": "stream",
     "text": [
      "The Relapse{{italic title}}\n",
      "{{EngvarB|date=September 2013}}\n",
      "{{Use dmy dates|date=September 2013}}\n",
      "[[File:John Vanbrugh.jpg|thumb|[[John Vanbrugh]] (1664–1726), author of ''The Relapse'']]\n",
      "\n",
      "'''''The Relapse, or, Virtue in Danger''''' is a [[Restoration comedy]] from 1696 written by [[John Vanbrugh]]. The play is a sequel to [[Colley Cibber]]'s ''[[Love's Last Shift|Love's Last Shift, or, The Fool in Fashion]]''.\n",
      "The Relapse\n",
      "\n",
      "\n",
      "[[File:John Vanbrugh.jpg|thumb|[[John Vanbrugh]] (1664–1726), author of ''The Relapse'']]\n",
      "\n",
      "'''''The Relapse, or, Virtue in Danger''''' is a [[Restoration comedy]] from 1696 written by [[John Vanbrugh]]. The play is a sequel to [[Colley Cibber]]'s ''[[Love's Last Shift|Love's Last Shift, or, The Fool in Fashion]]''.\n"
     ]
    }
   ],
   "source": [
    "s = \"\"\"The Relapse{{italic title}}\n",
    "{{EngvarB|date=September 2013}}\n",
    "{{Use dmy dates|date=September 2013}}\n",
    "[[File:John Vanbrugh.jpg|thumb|[[John Vanbrugh]] (1664–1726), author of ''The Relapse'']]\n",
    "\n",
    "'''''The Relapse, or, Virtue in Danger''''' is a [[Restoration comedy]] from 1696 written by [[John Vanbrugh]]. The play is a sequel to [[Colley Cibber]]'s ''[[Love's Last Shift|Love's Last Shift, or, The Fool in Fashion]]''.\"\"\"\n",
    "p = re.compile('{{.*}}')\n",
    "a = p.sub(r'', s)\n",
    "print(s)\n",
    "print(a)"
   ]
  },
  {
   "cell_type": "code",
   "execution_count": 16,
   "metadata": {},
   "outputs": [
    {
     "name": "stdout",
     "output_type": "stream",
     "text": [
      "The Relapse{{italic title}}\n",
      "{{EngvarB|date=September 2013}}\n",
      "{{Use dmy dates|date=September 2013}}\n",
      "[[File:John Vanbrugh.jpg|thumb|[[John Vanbrugh]] (1664–1726), author of ''The Relapse'']]\n",
      "\n",
      "'''''The Relapse, or, Virtue in Danger''''' is a [[Restoration comedy]] from 1696 written by [[John Vanbrugh]]. The play is a sequel to [[Colley Cibber]]'s ''[[Love's Last Shift|Love's Last Shift, or, The Fool in Fashion]]''.\n",
      "The Relapse{{italic title}}\n",
      "{{EngvarB|date=September 2013}}\n",
      "{{Use dmy dates|date=September 2013}}\n",
      "\n",
      "\n",
      "'''''The Relapse, or, Virtue in Danger''''' is a [[Restoration comedy]] from 1696 written by [[John Vanbrugh]]. The play is a sequel to [[Colley Cibber]]'s ''[[Love's Last Shift|Love's Last Shift, or, The Fool in Fashion]]''.\n"
     ]
    }
   ],
   "source": [
    "s = \"\"\"The Relapse{{italic title}}\n",
    "{{EngvarB|date=September 2013}}\n",
    "{{Use dmy dates|date=September 2013}}\n",
    "[[File:John Vanbrugh.jpg|thumb|[[John Vanbrugh]] (1664–1726), author of ''The Relapse'']]\n",
    "\n",
    "'''''The Relapse, or, Virtue in Danger''''' is a [[Restoration comedy]] from 1696 written by [[John Vanbrugh]]. The play is a sequel to [[Colley Cibber]]'s ''[[Love's Last Shift|Love's Last Shift, or, The Fool in Fashion]]''.\"\"\"\n",
    "p = re.compile('\\[\\[File\\:.*\\]\\]')\n",
    "a = p.sub(r'', s)\n",
    "print(s)\n",
    "print(a)"
   ]
  },
  {
   "cell_type": "code",
   "execution_count": 17,
   "metadata": {},
   "outputs": [
    {
     "name": "stdout",
     "output_type": "stream",
     "text": [
      "Unlike ''Love's Last Shift'', which never again performed after the 1690s, ''The Relapse'' has retained its [[audience]] appeal. In the 18th century, however, its tolerant attitude towards actual and attempted [[adultery]] gradually became unacceptable to public opinion, and the original play was for a century replaced on the stage by [[Richard Brinsley Sheridan|Sheridan]]'s moralised version ''[[A Trip to Scarborough]]'' (1777). On the modern stage, ''The Relapse'' has been established as one of the most popular Restoration comedies, valued for Vanbrugh's light, throwaway wit<ref>See Faller.</ref> and the consummate acting part of Lord Foppington, a [[burlesque]] character with a dark side.<ref>See [http://www.nationaltheatre.org.uk/?lid=1211&dspl=reviews reviews] of Trevor Nunn's 2001 production by Michael Coveney in the ''Daily Mail'' and Michael Billington in the ''Guardian'', each of which makes this point.</ref>\n",
      "Unlike ''Love's Last Shift'', which never again performed after the 1690s, ''The Relapse'' has retained its [[audience]] appeal. In the 18th century, however, its tolerant attitude towards actual and attempted [[adultery]] gradually became unacceptable to public opinion, and the original play was for a century replaced on the stage by [[Richard Brinsley Sheridan|Sheridan]]'s moralised version ''[[A Trip to Scarborough]]'' (1777). On the modern stage, ''The Relapse'' has been established as one of the most popular Restoration comedies, valued for Vanbrugh's light, throwaway wit and the consummate acting part of Lord Foppington, a [[burlesque]] character with a dark side.\n"
     ]
    }
   ],
   "source": [
    "s = \"Unlike ''Love's Last Shift'', which never again performed after the 1690s, ''The Relapse'' has retained its [[audience]] appeal. In the 18th century, however, its tolerant attitude towards actual and attempted [[adultery]] gradually became unacceptable to public opinion, and the original play was for a century replaced on the stage by [[Richard Brinsley Sheridan|Sheridan]]'s moralised version ''[[A Trip to Scarborough]]'' (1777). On the modern stage, ''The Relapse'' has been established as one of the most popular Restoration comedies, valued for Vanbrugh's light, throwaway wit<ref>See Faller.</ref> and the consummate acting part of Lord Foppington, a [[burlesque]] character with a dark side.<ref>See [http://www.nationaltheatre.org.uk/?lid=1211&dspl=reviews reviews] of Trevor Nunn's 2001 production by Michael Coveney in the ''Daily Mail'' and Michael Billington in the ''Guardian'', each of which makes this point.</ref>\"\n",
    "p = re.compile('<ref>([^<]*)<\\/ref>')\n",
    "a = p.sub(r'', s)\n",
    "print(s)\n",
    "print(a)"
   ]
  },
  {
   "cell_type": "code",
   "execution_count": 18,
   "metadata": {},
   "outputs": [
    {
     "name": "stdout",
     "output_type": "stream",
     "text": [
      "<blockquote>One word more about the bawdy, and I have done. I own the first night this thing was acted, some indecencies had like to have happened, but it was not my fault. The fine gentleman of the play, drinking his mistress's health in [[Nantes]] brandy from six in the morning to the time he waddled upon the stage in the evening, had toasted himself up to such a pitch of vigour, I confess I once gave Amanda for gone.</blockquote>\n",
      "One word more about the bawdy, and I have done. I own the first night this thing was acted, some indecencies had like to have happened, but it was not my fault. The fine gentleman of the play, drinking his mistress's health in [[Nantes]] brandy from six in the morning to the time he waddled upon the stage in the evening, had toasted himself up to such a pitch of vigour, I confess I once gave Amanda for gone.\n"
     ]
    }
   ],
   "source": [
    "s = \"<blockquote>One word more about the bawdy, and I have done. I own the first night this thing was acted, some indecencies had like to have happened, but it was not my fault. The fine gentleman of the play, drinking his mistress's health in [[Nantes]] brandy from six in the morning to the time he waddled upon the stage in the evening, had toasted himself up to such a pitch of vigour, I confess I once gave Amanda for gone.</blockquote>\"\n",
    "a = s.replace('<blockquote>', '')\n",
    "a = a.replace('</blockquote>', '')\n",
    "print(s)\n",
    "print(a)"
   ]
  }
 ],
 "metadata": {
  "kernelspec": {
   "display_name": "Python 3",
   "language": "python",
   "name": "python3"
  },
  "language_info": {
   "codemirror_mode": {
    "name": "ipython",
    "version": 3
   },
   "file_extension": ".py",
   "mimetype": "text/x-python",
   "name": "python",
   "nbconvert_exporter": "python",
   "pygments_lexer": "ipython3",
   "version": "3.6.3"
  }
 },
 "nbformat": 4,
 "nbformat_minor": 2
}
