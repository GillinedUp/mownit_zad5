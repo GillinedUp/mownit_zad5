{
 "cells": [
  {
   "cell_type": "code",
   "execution_count": 2,
   "metadata": {
    "collapsed": true
   },
   "outputs": [],
   "source": [
    "import xml.etree.ElementTree as ET\n",
    "\n",
    "tree = ET.parse('cokolwiek.xml')\n",
    "\n",
    "root = tree.getroot()"
   ]
  },
  {
   "cell_type": "code",
   "execution_count": 68,
   "metadata": {
    "collapsed": true
   },
   "outputs": [],
   "source": [
    "ns = {'m': 'http://www.mediawiki.org/xml/export-0.10/'}\n",
    "i = 0\n",
    "for page in root.findall('m:page', ns):\n",
    "    title = page.find('m:title', ns).text\n",
    "    text = page.find('m:revision', ns).find('m:text', ns).text\n",
    "    with open(str(i) + '.txt', 'a') as the_file:\n",
    "        the_file.write(title + text)\n",
    "    i += 1"
   ]
  },
  {
   "cell_type": "code",
   "execution_count": 59,
   "metadata": {
    "collapsed": true
   },
   "outputs": [],
   "source": [
    "import re\n",
    "def remove_wiki_garbage(s):     \n",
    "    p = re.compile('{{refbegin.*}}((\\s|.)*){{refend}}')\n",
    "    a = p.sub(r'', s)\n",
    "    p = re.compile(\"==\\s*Notes\\s*==|==\\s*References\\s*==|==\\s*External links\\s*==|==\\s*Further reading\\s*==|<blockquote>|<\\/blockquote>|<ref[^>]*>([^<]*)<\\/ref>|\\[\\[(File|Category|category)\\:.*\\]\\]|{{.*}}\")\n",
    "    a = p.sub(r'', a)\n",
    "    p = re.compile('\\[\\[([^\\]]*)\\|([^\\]]*)\\]\\]')\n",
    "    a = p.sub(r'\\g<2>', a)   \n",
    "    p = re.compile('\\[\\[([^\\]|]*)\\]\\]')\n",
    "    a = p.sub(r'\\g<1>', a)\n",
    "    a = a.replace('===', '')\n",
    "    a = a.replace('==', '')\n",
    "    a = a.replace(\"'''''\", '')\n",
    "    a = a.replace(\"'''\", '')\n",
    "    a = a.replace(\"''\", '')\n",
    "    p = re.compile('\\n{2,}')\n",
    "    a = p.sub(r'\\n', a)    \n",
    "    return a"
   ]
  },
  {
   "cell_type": "code",
   "execution_count": 60,
   "metadata": {},
   "outputs": [],
   "source": [
    "with open('0.txt', 'r') as myfile:\n",
    "    s = myfile.read()\n",
    "a = remove_wiki_garbage(s)\n",
    "with open('0d.txt', 'w') as myfile:\n",
    "    myfile.write(a)"
   ]
  },
  {
   "cell_type": "code",
   "execution_count": null,
   "metadata": {
    "collapsed": true
   },
   "outputs": [],
   "source": [
    "# \\[\\[[^\\]]*\\]\\]\n",
    "# \\[\\[([^\\]]*)\\|([^\\]]*)\\]\\] # form [[text|text]]\n",
    "# \\[\\[([^\\]|]*)\\]\\] # form [[text]]\n",
    "# \\[(http[^\\]]*)\\] # [http...]\n",
    "# <ref>([^<]*)<\\/ref> # <ref> text <\\ref>"
   ]
  },
  {
   "cell_type": "code",
   "execution_count": 69,
   "metadata": {},
   "outputs": [],
   "source": [
    "# s = \"In Cibber's ''Love's Last Shift'', a free-living [[Restoration (England)|Restoration]] [[Rake (character)|rake]] is brought to repentance and reform by the ruses of his wife, while in ''The Relapse'', the rake succumbs again to temptation and has a new love affair. His virtuous wife is also subjected to a determined seduction attempt, and resists with difficulty.\"\n",
    "# p = re.compile('\\[\\[([^\\]]*)\\|([^\\]]*)\\]\\]')\n",
    "# a = p.sub(r'\\g<2>', s)\n",
    "# print(a)"
   ]
  },
  {
   "cell_type": "code",
   "execution_count": 70,
   "metadata": {},
   "outputs": [],
   "source": [
    "# s = \"'''''The Relapse, or, Virtue in Danger''''' is a [[Restoration comedy]] from 1696 written by [[John Vanbrugh]]. The play is a sequel to [[Colley Cibber]]'s ''[[Love's Last Shift|Love's Last Shift, or, The Fool in Fashion]]''.\"\n",
    "# p = re.compile('\\[\\[([^\\]|]*)\\]\\]')\n",
    "# a = p.sub(r'\\g<1>', s)\n",
    "# print(a)"
   ]
  },
  {
   "cell_type": "code",
   "execution_count": 61,
   "metadata": {},
   "outputs": [],
   "source": [
    "# s = \"\"\":As change thus circulates throughout the nation,\n",
    "# :Some plays may justly call for alteration;\n",
    "# :At least to draw some slender covering o'er,\n",
    "# :That graceless wit which was too bare before.\n",
    "\n",
    "# Sheridan does not allow Loveless and Berinthia to [[consummation|consummate]] their relationship, and he withdraws approval from Amanda's admirer Worthy by renaming him \"Townly\". Some frank quips are silently deleted, and the matchmaker Coupler with the lecherous interest in Tom becomes decorous Mrs Coupler. A small-scale but notable loss is of much of the graphic language of Hoyden's nurse, who is earthy in Vanbrugh's original, genteel in Sheridan. However, Sheridan had an appreciation of Vanbrugh's style, and retained most of the original text unaltered.\n",
    "\n",
    "# In the 19th century, ''A Trip to Scarborough'' remained the standard version, and there were also some ad hoc adaptations that sidelined the Lovelesses' drawing-room comedy in favour of the Lord Foppington/Hoyden plot with its caricatured clashes between exquisite fop and pitchfork-wielding country bumpkins.<ref>Unless otherwise indicated, the information in this paragraph comes from Harris xxvi.</ref> ''The Man of Quality'' (1870) was one such robust production, ''Miss Tomboy'' (1890) another. Vanbrugh's original ''Relapse'' was staged once, in 1846, at the [[Olympic Theatre]] in London.\n",
    "\n",
    "# During the first half of the 20th century ''The Relapse'' was relatively neglected, along with other [[Restoration drama]], and experts are uncertain about exactly when Vanbrugh's original again resurged to prominence on the stage and thereby marginalised Sheridan's version. These experts now believe the play may have been first brilliantly rehabilitated by [[Anthony Quayle]]'s 1947 production at the Phoenix Theatre, starring [[Cyril Ritchard]] as Lord Foppington and brought to Broadway by Ritchard in 1950.<ref>{{cite web|url=http://users.bestweb.net/~foosie/cyril.htm |title=Cyril Ritchard biography site |publisher=Users.bestweb.net |date= |accessdate=6 June 2012}}</ref> A [[musical theater|musical]] version, ''Virtue in Danger'' (1963), by [[Paul Dehn]] and \"John Bernard\", opened to mixed reviews. [[John Russell Taylor]] in ''Plays and Players'' praised the cast, which included [[Patricia Routledge]] as Berinthia and [[John Moffatt (actor)|John Moffatt]] as Lord Foppington, but complained that the production was \"full of the simpering, posturing and sniggering which usually stand in for style and sophistication in Restoration revivals.\"<ref>[http://alanhoward.org.uk/virtue.htm John Russell Taylor, review] in ''Plays and Players''.</ref> Following [[Donald Sinden]]'s outstanding and award-winning performance at the [[Aldwych Theatre]] in the mid-1970s Vanbrugh's original play is now again a favourite of the stage. A 2001 revival by [[Trevor Nunn]] at the [[Royal National Theatre|National Theatre]] was described by [[Sheridan Morley]] as \"rare, loving and brilliantly cast.\"<!-- Taken out of its original context, it's unclear what \"rare\" refers to or means here. If the revival was a rare one, this rather undercuts what's just been said. If it was of rare quality, this hints that others weren't so good. Et cetera. (Hoary) It's no more clear in the original: it's just a praiseword./bish --> As so often with commentary on ''The Relapse'', Morley focused on the role of Lord Foppington and its different [[Interpretation (aesthetics)|interpretation]]s: \"[[Alex Jennings]] superbly inherits the role of Lord Foppington which for 20 years or so belonged to [[Donald Sinden]], and for another 20 before that to [[Cyril Ritchard]].\"<ref>Sheridan Morley, \"Company Pride\", July 28, 2001, review in ''The Spectator''.</ref>\n",
    "\n",
    "# ''Restoration Comedy'', a play by [[Amy Freed]] that draws on both ''The Relapse'' and its predecessor, Colley Cibber's ''[[Love's Last Shift]]'', premiered at [[Seattle Repertory Theatre]] in 2005, starring [[Stephen Caffrey]] as Loveless, [[Caralyn Kozlowski]] as Amanda, and [[Jonathan Freeman (actor)|Jonathan Freeman]] as Lord Foppington, and directed by [[Sharon Ott]].<ref>Kelly Huffman, [http://www.theatermania.com/content/news.cfm/story/7310 review] of Seattle premiere, December 2005; Robert Hurwitt, [http://www.sfgate.com/cgi-bin/article.cgi?f=/c/a/2006/07/10/DDG8SJRO4V1.DTL&hw=restoration+comedy&sn=004&sc=610 review] of San Francisco performance, July 2006, ''San Francisco Chronicle''.</ref>\n",
    "\n",
    "# ==Notes==\n",
    "# {{reflist|30em}}\n",
    "\n",
    "# ==References==\n",
    "# {{refbegin|30em}}\n",
    "# * Cibber, Colley (first published 1740, ed. Robert Lowe, 1889). [http://etext.lib.virginia.edu/etcbin/toccer-new2?id=Cib1Apo.sgm&images=images/modeng&data=/texts/english/modeng/parsed&tag=public&part=all ''An Apology for the Life of Colley Cibber'', vol.1], [http://etext.lib.virginia.edu/etcbin/toccer-new2?id=Cib2Apo.sgm&images=images/modeng&data=/texts/english/modeng/parsed&tag=public&part=all vol 2]. London.\n",
    "# * Dobrée, Bonamy (1927). Introduction to ''The Complete Works of Sir John Vanbrugh'', vol. 1. Bloomsbury: The Nonesuch Press.<!-- Is this \"Bloomsbury\" London? If so, I'd write \"London\" instead. (Hoary) -->\n",
    "# * Faller, Lincoln B. (1974–75). \"Between jest and earnest: the comedy of Sir John Vanbrugh\". ''Modern Philology'' 72, 17—29.\n",
    "# * Gildon, Charles (1699). ''The Lives and Characters of the English Dramatic Poets.'' London.\n",
    "# * Harris, Bernard (1971). Introduction to ''The Relapse''. London: New Mermaids, Ernest Benn.\n",
    "# * Highfill, Philip Jr, Burnim, Kalman A., and Langhans, Edward (1973–93). ''Biographical Dictionary of Actors, Actresses, Musicians, Dancers, Managers and Other Stage Personnel in London, 1660–1800''. 16 volumes. Carbondale: Southern Illinois University Press. All details about individual actors are taken from this standard work unless otherwise indicated.\n",
    "# * Holland, Peter (1979). ''The Ornament of Action: Text and Performance in Restoration Comedy.'' Cambridge: Cambridge University Press.\n",
    "# * Hume, Robert D. (1976). ''The Development of English Drama in the Late Seventeenth Century''. Oxford: Clarendon Press.\n",
    "# * Milhous, Judith (1979). ''Thomas Betterton and the Management of Lincoln's Inn Fields 1695–1708''. Carbondale: Southern Illinois University Press.\n",
    "# * Van Lennep, William (ed.) (1965). ''The London Stage 1660—1800: A Calendar of Plays, Entertainments and Afterpieces Together with Casts, Box-Receipts and Contemporary Comment Compiled from the Playbills, Newspapers and Theatrical Diaries of the Period, Part 1: 1660–1700''. Carbondale: Southern Illinois University Press.\n",
    "# {{refend}}\n",
    "\n",
    "# ==External links==\n",
    "# *{{commonscat-inline|The Relapse|''The Relapse''}}\n",
    "# {{featured article}}\n",
    "# {{Restoration comedy}}\n",
    "\n",
    "# {{DEFAULTSORT:Relapse, The}}\n",
    "# [[Category:Plays by John Vanbrugh]]\n",
    "# [[Category:Restoration comedy]]\n",
    "# [[Category:1696 plays]]\n",
    "# [[category:Plays set in the 17th century]]\"\"\"\n",
    "# p = re.compile('{{refbegin.*}}((\\s|.)*){{refend}}')\n",
    "# a = p.sub(r'', s)\n",
    "# print(s)\n",
    "# print()\n",
    "# print(a)"
   ]
  },
  {
   "cell_type": "code",
   "execution_count": 62,
   "metadata": {},
   "outputs": [],
   "source": [
    "# s = \"===Stage history=== ==a==\"\n",
    "# p = re.compile(\"(==\\s*Notes\\s*==|==\\s*References\\s*==|==\\s*External links\\s*==|==\\s*Further reading\\s*==|<blockquote>|<\\/blockquote>|<ref.*>([^<]*)<\\/ref>|\\[\\[(File|Category|category)\\:.*\\]\\]|{{.*}}\")\n",
    "# a = p.sub(r'', s)\n",
    "# print(s)\n",
    "# print(a)"
   ]
  },
  {
   "cell_type": "code",
   "execution_count": null,
   "metadata": {
    "collapsed": true
   },
   "outputs": [],
   "source": [
    "# s = \"===Stage history=== ==a==\"\n",
    "# a = s.replace('===', '')\n",
    "# a = a.replace('==', '')\n",
    "# print(s)\n",
    "# print(a)"
   ]
  },
  {
   "cell_type": "code",
   "execution_count": 63,
   "metadata": {},
   "outputs": [],
   "source": [
    "# s = \"''The Relapse'' '''''The Relapse, or, Virtue in Danger'''''\"\n",
    "# a = s.replace(\"'''''\", '')\n",
    "# a = a.replace(\"'''\", '')\n",
    "# a = a.replace(\"''\", '')\n",
    "# print(s)\n",
    "# print(a)"
   ]
  },
  {
   "cell_type": "code",
   "execution_count": 64,
   "metadata": {},
   "outputs": [],
   "source": [
    "# s = \"\"\"\n",
    "# ==Notes==\n",
    "# {{reflist|30em}}\n",
    "\n",
    "# ==References==\n",
    "# {{refbegin|30em}}\n",
    "# * Cibber, Colley (first published 1740, ed. Robert Lowe, 1889). [http://etext.lib.virginia.edu/etcbin/toccer-new2?id=Cib1Apo.sgm&images=images/modeng&data=/texts/english/modeng/parsed&tag=public&part=all ''An Apology for the Life of Colley Cibber'', vol.1], [http://etext.lib.virginia.edu/etcbin/toccer-new2?id=Cib2Apo.sgm&images=images/modeng&data=/texts/english/modeng/parsed&tag=public&part=all vol 2]. London.\n",
    "# * Dobrée, Bonamy (1927). Introduction to ''The Complete Works of Sir John Vanbrugh'', vol. 1. Bloomsbury: The Nonesuch Press.<!-- Is this \"Bloomsbury\" London? If so, I'd write \"London\" instead. (Hoary) -->\n",
    "# * Faller, Lincoln B. (1974–75). \"Between jest and earnest: the comedy of Sir John Vanbrugh\". ''Modern Philology'' 72, 17—29.\n",
    "# * Gildon, Charles (1699). ''The Lives and Characters of the English Dramatic Poets.'' London.\n",
    "# * Harris, Bernard (1971). Introduction to ''The Relapse''. London: New Mermaids, Ernest Benn.\n",
    "# * Highfill, Philip Jr, Burnim, Kalman A., and Langhans, Edward (1973–93). ''Biographical Dictionary of Actors, Actresses, Musicians, Dancers, Managers and Other Stage Personnel in London, 1660–1800''. 16 volumes. Carbondale: Southern Illinois University Press. All details about individual actors are taken from this standard work unless otherwise indicated.\n",
    "# * Holland, Peter (1979). ''The Ornament of Action: Text and Performance in Restoration Comedy.'' Cambridge: Cambridge University Press.\n",
    "# * Hume, Robert D. (1976). ''The Development of English Drama in the Late Seventeenth Century''. Oxford: Clarendon Press.\n",
    "# * Milhous, Judith (1979). ''Thomas Betterton and the Management of Lincoln's Inn Fields 1695–1708''. Carbondale: Southern Illinois University Press.\n",
    "# * Van Lennep, William (ed.) (1965). ''The London Stage 1660—1800: A Calendar of Plays, Entertainments and Afterpieces Together with Casts, Box-Receipts and Contemporary Comment Compiled from the Playbills, Newspapers and Theatrical Diaries of the Period, Part 1: 1660–1700''. Carbondale: Southern Illinois University Press.\n",
    "# {{refend}}\n",
    "\n",
    "# ==External links==\n",
    "# *{{commonscat-inline|The Relapse|''The Relapse''}}\n",
    "# {{featured article}}\n",
    "# {{Restoration comedy}}\n",
    "# \"\"\"\n",
    "# a = remove_wiki_garbage(s)\n",
    "# print(s)\n",
    "# print()\n",
    "# print(a)"
   ]
  },
  {
   "cell_type": "code",
   "execution_count": 6,
   "metadata": {
    "collapsed": true
   },
   "outputs": [],
   "source": [
    "# def get_element_by_tag(element, tag):\n",
    "#     if element.tag.endswith(tag):\n",
    "#         yield element\n",
    "#     for child in element:\n",
    "#         for g in get_element_by_tag(child, tag):\n",
    "#             yield g"
   ]
  },
  {
   "cell_type": "code",
   "execution_count": 67,
   "metadata": {
    "collapsed": true
   },
   "outputs": [],
   "source": [
    "# ns = {'m': 'http://www.mediawiki.org/xml/export-0.10/'}\n",
    "# i = 0\n",
    "# for page in root.findall('m:page', ns):\n",
    "#     title = page.find('m:title', ns)\n",
    "#     text = page.find('m:revision', ns).find('m:text', ns)\n",
    "# #     for e in text:\n",
    "# #         print(e)\n",
    "#     for ref in text.findall('m:ref', ns):\n",
    "#         print(a)\n",
    "# #         text.remove(ref)\n",
    "# #     print(text.text)\n",
    "# #     with open(str(i) + '.txt', 'a') as the_file:\n",
    "# #         the_file.write(title.text + text.text)\n",
    "#     i += 1"
   ]
  },
  {
   "cell_type": "code",
   "execution_count": 65,
   "metadata": {},
   "outputs": [],
   "source": [
    "# s = \"\"\"The Relapse{{italic title}}\n",
    "# {{EngvarB|date=September 2013}}\n",
    "# {{Use dmy dates|date=September 2013}}\n",
    "# [[File:John Vanbrugh.jpg|thumb|[[John Vanbrugh]] (1664–1726), author of ''The Relapse'']]\n",
    "\n",
    "# '''''The Relapse, or, Virtue in Danger''''' is a [[Restoration comedy]] from 1696 written by [[John Vanbrugh]]. The play is a sequel to [[Colley Cibber]]'s ''[[Love's Last Shift|Love's Last Shift, or, The Fool in Fashion]]''.\"\"\"\n",
    "# p = re.compile('{{.*}}')\n",
    "# a = p.sub(r'', s)\n",
    "# print(s)\n",
    "# print(a)"
   ]
  },
  {
   "cell_type": "code",
   "execution_count": 66,
   "metadata": {},
   "outputs": [],
   "source": [
    "# s = \"\"\"The Relapse{{italic title}}\n",
    "# {{EngvarB|date=September 2013}}\n",
    "# {{Use dmy dates|date=September 2013}}\n",
    "# [[File:John Vanbrugh.jpg|thumb|[[John Vanbrugh]] (1664–1726), author of ''The Relapse'']]\n",
    "\n",
    "# '''''The Relapse, or, Virtue in Danger''''' is a [[Restoration comedy]] from 1696 written by [[John Vanbrugh]]. The play is a sequel to [[Colley Cibber]]'s ''[[Love's Last Shift|Love's Last Shift, or, The Fool in Fashion]]''.\"\"\"\n",
    "# p = re.compile('\\[\\[(File|Category|category)\\:.*\\]\\]')\n",
    "# a = p.sub(r'', s)\n",
    "# print(s)\n",
    "# print(a)"
   ]
  },
  {
   "cell_type": "code",
   "execution_count": 67,
   "metadata": {},
   "outputs": [],
   "source": [
    "# s = \"Unlike ''Love's Last Shift'', which never again performed after the 1690s, ''The Relapse'' has retained its [[audience]] appeal. In the 18th century, however, its tolerant attitude towards actual and attempted [[adultery]] gradually became unacceptable to public opinion, and the original play was for a century replaced on the stage by [[Richard Brinsley Sheridan|Sheridan]]'s moralised version ''[[A Trip to Scarborough]]'' (1777). On the modern stage, ''The Relapse'' has been established as one of the most popular Restoration comedies, valued for Vanbrugh's light, throwaway wit<ref>See Faller.</ref> and the consummate acting part of Lord Foppington, a [[burlesque]] character with a dark side.<ref>See [http://www.nationaltheatre.org.uk/?lid=1211&dspl=reviews reviews] of Trevor Nunn's 2001 production by Michael Coveney in the ''Daily Mail'' and Michael Billington in the ''Guardian'', each of which makes this point.</ref>\"\n",
    "# p = re.compile('<ref>([^<]*)<\\/ref>')\n",
    "# a = p.sub(r'', s)\n",
    "# print(s)\n",
    "# print(a)"
   ]
  },
  {
   "cell_type": "code",
   "execution_count": 68,
   "metadata": {},
   "outputs": [],
   "source": [
    "# s = \"<blockquote>One word more about the bawdy, and I have done. I own the first night this thing was acted, some indecencies had like to have happened, but it was not my fault. The fine gentleman of the play, drinking his mistress's health in [[Nantes]] brandy from six in the morning to the time he waddled upon the stage in the evening, had toasted himself up to such a pitch of vigour, I confess I once gave Amanda for gone.</blockquote>\"\n",
    "# a = s.replace('<blockquote>', '')\n",
    "# a = a.replace('</blockquote>', '')\n",
    "# print(s)\n",
    "# print(a)"
   ]
  }
 ],
 "metadata": {
  "kernelspec": {
   "display_name": "Python 3",
   "language": "python",
   "name": "python3"
  },
  "language_info": {
   "codemirror_mode": {
    "name": "ipython",
    "version": 3
   },
   "file_extension": ".py",
   "mimetype": "text/x-python",
   "name": "python",
   "nbconvert_exporter": "python",
   "pygments_lexer": "ipython3",
   "version": "3.6.3"
  }
 },
 "nbformat": 4,
 "nbformat_minor": 2
}
