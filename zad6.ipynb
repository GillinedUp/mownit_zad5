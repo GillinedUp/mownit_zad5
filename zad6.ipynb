{
 "cells": [
  {
   "cell_type": "code",
   "execution_count": 2,
   "metadata": {
    "collapsed": true
   },
   "outputs": [],
   "source": [
    "import xml.etree.ElementTree as ET\n",
    "\n",
    "tree = ET.parse('cokolwiek.xml')\n",
    "\n",
    "root = tree.getroot()"
   ]
  },
  {
   "cell_type": "code",
   "execution_count": 6,
   "metadata": {
    "collapsed": true
   },
   "outputs": [],
   "source": [
    "# def get_element_by_tag(element, tag):\n",
    "#     if element.tag.endswith(tag):\n",
    "#         yield element\n",
    "#     for child in element:\n",
    "#         for g in get_element_by_tag(child, tag):\n",
    "#             yield g"
   ]
  },
  {
   "cell_type": "code",
   "execution_count": 68,
   "metadata": {
    "collapsed": true
   },
   "outputs": [],
   "source": [
    "ns = {'m': 'http://www.mediawiki.org/xml/export-0.10/'}\n",
    "i = 0\n",
    "for page in root.findall('m:page', ns):\n",
    "    title = page.find('m:title', ns).text\n",
    "    text = page.find('m:revision', ns).find('m:text', ns).text\n",
    "    with open(str(i) + '.txt', 'a') as the_file:\n",
    "        the_file.write(title + text)\n",
    "    i += 1"
   ]
  },
  {
   "cell_type": "code",
   "execution_count": 67,
   "metadata": {
    "collapsed": true
   },
   "outputs": [],
   "source": [
    "# ns = {'m': 'http://www.mediawiki.org/xml/export-0.10/'}\n",
    "# i = 0\n",
    "# for page in root.findall('m:page', ns):\n",
    "#     title = page.find('m:title', ns)\n",
    "#     text = page.find('m:revision', ns).find('m:text', ns)\n",
    "# #     for e in text:\n",
    "# #         print(e)\n",
    "#     for ref in text.findall('m:ref', ns):\n",
    "#         print(a)\n",
    "# #         text.remove(ref)\n",
    "# #     print(text.text)\n",
    "# #     with open(str(i) + '.txt', 'a') as the_file:\n",
    "# #         the_file.write(title.text + text.text)\n",
    "#     i += 1"
   ]
  }
 ],
 "metadata": {
  "kernelspec": {
   "display_name": "Python 3",
   "language": "python",
   "name": "python3"
  },
  "language_info": {
   "codemirror_mode": {
    "name": "ipython",
    "version": 3
   },
   "file_extension": ".py",
   "mimetype": "text/x-python",
   "name": "python",
   "nbconvert_exporter": "python",
   "pygments_lexer": "ipython3",
   "version": "3.6.3"
  }
 },
 "nbformat": 4,
 "nbformat_minor": 2
}
